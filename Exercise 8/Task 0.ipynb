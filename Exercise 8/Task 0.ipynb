{
 "cells": [
  {
   "cell_type": "markdown",
   "metadata": {},
   "source": [
    "Navn: Ludvik Høibjerg-Aslaksen,\n",
    "NMBU-mail: ludvik.hoibjerg-aslaksen@nmbu.no\n",
    "\n",
    "Navn: Georg Dahl-Steinsvik,\n",
    "NMBU-mail: georg.dahl-steinsvik@nmbu.no"
   ]
  },
  {
   "cell_type": "code",
   "execution_count": 25,
   "metadata": {},
   "outputs": [
    {
     "name": "stdout",
     "output_type": "stream",
     "text": [
      "Data Science Student: 0021 - John Student\n",
      "Biology Student: Ola Nordmann, ID: 0022\n"
     ]
    }
   ],
   "source": [
    "from abc import ABC, abstractmethod\n",
    "\n",
    "class Student(ABC):\n",
    "    def __init__(self, name: str, student_id: int) -> None:\n",
    "        self._name = name\n",
    "        self._student_id = student_id\n",
    "\n",
    "    @abstractmethod\n",
    "    def __str__(self) -> str:\n",
    "        pass\n",
    "\n",
    "class dataScienceStudent(Student):\n",
    "    def __str__(self) -> str:\n",
    "        return f\"Data Science Student: {self._student_id} - {self._name}\"\n",
    "\n",
    "class BiologyStudent(Student):\n",
    "    def __str__(self) -> str:\n",
    "        return f\"Biology Student: {self._name}, ID: {self._student_id}\"\n",
    "\n",
    "class StudentFactory():\n",
    "    def __init__(self) -> None:\n",
    "        self._key_register = {}\n",
    "\n",
    "    def register(self, key: str, student_class: object):\n",
    "        return self._key_register.update({key:student_class})\n",
    "\n",
    "    def __call__(self, key: str, name: str, student_id: int) -> dict:\n",
    "        return self._key_register[key](name, student_id)\n",
    "\n",
    "Factory = StudentFactory()\n",
    "Factory.register(\"ds\", dataScienceStudent)\n",
    "Factory.register(\"bio\", BiologyStudent)\n",
    "\n",
    "JohnStudent = Factory(\"ds\", \"John Student\", \"0021\")\n",
    "OlaNordmann = Factory(\"bio\", \"Ola Nordmann\", \"0022\")\n",
    "\n",
    "print(JohnStudent)\n",
    "print(OlaNordmann)"
   ]
  }
 ],
 "metadata": {
  "kernelspec": {
   "display_name": ".venv",
   "language": "python",
   "name": "python3"
  },
  "language_info": {
   "codemirror_mode": {
    "name": "ipython",
    "version": 3
   },
   "file_extension": ".py",
   "mimetype": "text/x-python",
   "name": "python",
   "nbconvert_exporter": "python",
   "pygments_lexer": "ipython3",
   "version": "3.12.6"
  }
 },
 "nbformat": 4,
 "nbformat_minor": 2
}
