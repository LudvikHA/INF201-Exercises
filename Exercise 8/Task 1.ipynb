{
 "cells": [
  {
   "cell_type": "markdown",
   "metadata": {},
   "source": [
    "Navn: Ludvik Høibjerg-Aslaksen,\n",
    "NMBU-mail: ludvik.hoibjerg-aslaksen@nmbu.no\n",
    "\n",
    "Navn: Georg Dahl-Steinsvik,\n",
    "NMBU-mail: georg.dahl-steinsvik@nmbu.no"
   ]
  },
  {
   "cell_type": "code",
   "execution_count": 18,
   "metadata": {},
   "outputs": [
    {
     "name": "stdout",
     "output_type": "stream",
     "text": [
      "\n",
      "[110 234 128]\n"
     ]
    },
    {
     "data": {
      "text/plain": [
       "'triangle'"
      ]
     },
     "execution_count": 18,
     "metadata": {},
     "output_type": "execute_result"
    }
   ],
   "source": [
    "import meshio\n",
    "\n",
    "msh = meshio.read(\"simple.msh\")\n",
    "points = msh.points  # mesh points\n",
    "cells = msh.cells    # mesh cell\n",
    "\n",
    "cell = cells[1].data[222]\n",
    "print(cell)\n",
    "cells[1].type"
   ]
  }
 ],
 "metadata": {
  "kernelspec": {
   "display_name": ".venv",
   "language": "python",
   "name": "python3"
  },
  "language_info": {
   "codemirror_mode": {
    "name": "ipython",
    "version": 3
   },
   "file_extension": ".py",
   "mimetype": "text/x-python",
   "name": "python",
   "nbconvert_exporter": "python",
   "pygments_lexer": "ipython3",
   "version": "3.12.6"
  }
 },
 "nbformat": 4,
 "nbformat_minor": 2
}
