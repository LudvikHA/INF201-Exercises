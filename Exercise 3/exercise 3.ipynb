{
 "cells": [
  {
   "cell_type": "code",
   "execution_count": 1,
   "metadata": {},
   "outputs": [
    {
     "name": "stdout",
     "output_type": "stream",
     "text": [
      "      Friendships      \n",
      "------------------------\n",
      "       Ali - Per       \n",
      "      Kari - Joe       \n",
      "     James - Peter     \n"
     ]
    }
   ],
   "source": [
    "#Task 1\n",
    "import re\n",
    "sentences = [\"Ali and Per are friends.\", \"Kari and Joe know each other.\", \"James has known Peter since school days.\"]\n",
    "\n",
    "stringSearch = re.compile(r\"\\b[A-Z]\\S*\") #RegEx for finding the names\n",
    "centerLength = 24 \n",
    "print(f\"{\"Friendships\":^{centerLength-1}}\\n{\"-\"*centerLength}\") #Header and separator\n",
    "for sentence in sentences:\n",
    "    names = re.findall(stringSearch, sentence)\n",
    "    print(f'{f\"{names[0]} - {names[1]}\":^{centerLength-1}}') #Centers the output \n"
   ]
  },
  {
   "cell_type": "code",
   "execution_count": 250,
   "metadata": {},
   "outputs": [
    {
     "name": "stdout",
     "output_type": "stream",
     "text": [
      "Valid password: J1234\n",
      "Valid password: I_ab5\n",
      "Valid password: Z9_w4\n",
      "Valid password: K1 L9\n",
      "Invalid password: A1234\n",
      "Invalid password: J12345\n",
      "Invalid password: I__\n"
     ]
    }
   ],
   "source": [
    "#Task 2\n",
    "passwordList = [\"J1234\", \"I_ab5\", \"Z9_w4\", \"K1 L9\",\"A1234\", \"J12345\", \"I__\"]\n",
    "\n",
    "def passwordValidation(listOfPasswords):\n",
    "    #It is probably better to use {2,3} in the RegEx, but I coldnt get it to work\n",
    "    searchParameter = re.compile(r\"^[I-Z](([a-zA-Z0-9_ ]{2}\\d$)|([a-zA-Z0-9_ ]{3}\\d$))\") \n",
    "    for passwords in listOfPasswords:\n",
    "        validatedPassword = re.search(searchParameter, passwords)\n",
    "        if validatedPassword is None: #Checks if a match as been found\n",
    "            print(f\"Invalid password: {passwords}\")\n",
    "        else:\n",
    "            print(f\"Valid password: {passwords}\")\n",
    "\n",
    "passwordValidation(passwordList)\n"
   ]
  },
  {
   "cell_type": "code",
   "execution_count": 251,
   "metadata": {},
   "outputs": [
    {
     "name": "stdout",
     "output_type": "stream",
     "text": [
      "dummy.py: re\n",
      "dummy.py: Path\n",
      "task0.py: re\n"
     ]
    }
   ],
   "source": [
    "#Task 3\n",
    "import re\n",
    "from pathlib import Path\n",
    "pathsInDirectory = sorted(Path(\".\").glob(\"*.py\")) #Finds the path to all python files\n",
    "\n",
    "fromExpression = re.compile(r\"from\\s\\w*\\s\\w*\\s(\\w*)\") \n",
    "importExpression = re.compile(r\"import\\s(\\w*)\") #Finds a import statement then returns what it is importing\n",
    "\n",
    "for paths in pathsInDirectory:\n",
    "    with open(paths, \"r\") as infile: #reads each file so it can be checked for import statements\n",
    "        librariesInPath = re.findall(importExpression, infile.read())\n",
    "        if librariesInPath is not None:\n",
    "            for libraries in librariesInPath:\n",
    "                print(f\"{paths}: {libraries}\")\n"
   ]
  }
 ],
 "metadata": {
  "kernelspec": {
   "display_name": ".venv",
   "language": "python",
   "name": "python3"
  },
  "language_info": {
   "codemirror_mode": {
    "name": "ipython",
    "version": 3
   },
   "file_extension": ".py",
   "mimetype": "text/x-python",
   "name": "python",
   "nbconvert_exporter": "python",
   "pygments_lexer": "ipython3",
   "version": "3.12.6"
  }
 },
 "nbformat": 4,
 "nbformat_minor": 2
}
