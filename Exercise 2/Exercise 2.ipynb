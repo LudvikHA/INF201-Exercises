{
 "cells": [
  {
   "cell_type": "code",
   "execution_count": 1,
   "metadata": {},
   "outputs": [
    {
     "name": "stdout",
     "output_type": "stream",
     "text": [
      "Party code:          Votes by party:      Votes by percent:     Greater than 4.00%:\n",
      "A                    761152               26.19%                True\n",
      "H                    590736               20.32%                True\n",
      "SP                   392193               13.49%                True\n",
      "Party code:          Votes by party:      Votes by percent:     Greater than 4.00%:\n",
      "A                    761152               26.19%                True\n",
      "H                    590736               20.32%                True\n",
      "SP                   392193               13.49%                True\n",
      "FRP                  338129               11.63%                True\n",
      "SV                   216082               7.43%                 True\n",
      "RØDT                 135613               4.67%                 True\n",
      "V                    129453               4.45%                 True\n",
      "Party code:          Votes by party:      Votes by percent:     Greater than 4.00%:\n",
      "A                    761152               26.19%                True\n",
      "H                    590736               20.32%                True\n",
      "SP                   392193               13.49%                True\n",
      "FRP                  338129               11.63%                True\n",
      "SV                   216082               7.43%                 True\n",
      "RØDT                 135613               4.67%                 True\n",
      "V                    129453               4.45%                 True\n",
      "MDG                  111033               3.82%                 False\n",
      "KRF                  110083               3.79%                 False\n",
      "DEMN                 33326                1.15%                 False\n",
      "PP                   18713                0.64%                 False\n",
      "BLANKE               17818                0.61%                 False\n",
      "KRISTNE              10179                0.35%                 False\n",
      "INP                  9763                 0.34%                 False\n",
      "PS                   7526                 0.26%                 False\n",
      "HELSE                6309                 0.22%                 False\n",
      "PF                   4908                 0.17%                 False\n",
      "LIBS                 4325                 0.15%                 False\n",
      "FNB                  3354                 0.12%                 False\n",
      "AAN                  2416                 0.08%                 False\n",
      "PIR                  2257                 0.08%                 False\n",
      "NKP                  303                  0.01%                 False\n",
      "FI                   275                  0.01%                 False\n",
      "GENE                 171                  0.01%                 False\n",
      "KYST                 167                  0.01%                 False\n",
      "RN                   96                   0.0%                  False\n",
      "GT                   88                   0.0%                  False\n"
     ]
    }
   ],
   "source": [
    "from typing import Optional\n",
    "#Task 1\n",
    "#Task 1.1\n",
    "#District Name: column 2\n",
    "#Party Code: column 7\n",
    "#Total votes: column 13\n",
    "\n",
    "#Task 1.2, 1.3, 1.5, 1.6\n",
    "# 2021-09-14_party distribution_1_st_2021.csv\n",
    "def partyVoteCounter(fileName: str, partiesToInclude: Optional[int]=None) -> None:\n",
    "    partyVotes = {}\n",
    "    with open(fileName, \"r\", encoding=\"utf-8\") as infile:\n",
    "        infile.readline() #Skips first the line\n",
    "        for lines in infile:\n",
    "            splitLines = lines.split(\";\")\n",
    "            partyCode = splitLines[6]\n",
    "            votesInMunicipality = int(splitLines[12])\n",
    "\n",
    "            if partyCode in partyVotes.keys(): #Checks if party code already is in the keys\n",
    "                newTotalVotes = partyVotes[partyCode] + votesInMunicipality #Updates the total number of votes\n",
    "                partyVotes.update({partyCode: newTotalVotes}) #Updates the entry containing the current party code with a new total of votes\n",
    "            else:\n",
    "                partyVotes.update({partyCode: votesInMunicipality})\n",
    "\n",
    "    sortedByVotes = sorted(partyVotes.items(), key=lambda x: x[1], reverse=True) #Sorts the votes by elements in the dictionary by their value\n",
    "    #Prints the districts in a table sorted by number of votes\n",
    "    totalVotes = sum(partyVotes.values())\n",
    "    print(f\"{'Party code:':<21}{'Votes by party:':<21}{'Votes by percent:':<21} {'Greater than 4.00%:'}\") #Table header\n",
    "    for districtAndVotes in sortedByVotes[0:partiesToInclude]: #Slices the list such that only the desired amount of parties are included\n",
    "        percentageOfVotes = (districtAndVotes[1]/totalVotes)*100\n",
    "        print(f\"{districtAndVotes[0]:<20} {districtAndVotes[1]:<20} {str(round(percentageOfVotes, 2))+'%':<22}{percentageOfVotes>4.00}\") #Prints the party code, the total votes they got and percent. \n",
    "\n",
    "\n",
    "partyVoteCounter(\"2021-09-14_party distribution_1_st_2021.csv\", 3) \n",
    "partyVoteCounter(\"2021-09-14_party distribution_1_st_2021.csv\", 7)\n",
    "partyVoteCounter(\"2021-09-14_party distribution_1_st_2021.csv\") "
   ]
  },
  {
   "cell_type": "code",
   "execution_count": 170,
   "metadata": {},
   "outputs": [
    {
     "name": "stdout",
     "output_type": "stream",
     "text": [
      "Character: 2\n",
      " - ASCII representation: 00110010\n",
      " - UTF-8: 00110010 (1 byte)\n",
      "Character: $\n",
      " - ASCII representation: 00100100\n",
      " - UTF-8: 00100100 (1 byte)\n",
      "Character: å\n",
      " - Not in ASCII range\n",
      " - UTF-8: 11000011 10100101 (2 bytes)\n"
     ]
    }
   ],
   "source": [
    "#Task 2 and task 3\n",
    "inputValues = [\"2\", \"$\", \"å\"] #Input\n",
    "def isAsciiRange(characters: list[str]) -> None:\n",
    "    for element in characters:\n",
    "        print(f\"Character: {element}\")\n",
    "        hexaDecimalByte = element.encode('utf-8')\n",
    "        if ord(element) < 128: #Checks if the character is in ascii range. Characters in ascii range will always be one byte\n",
    "                print(f\" - ASCII representation: {format(ord(element), '08b')}\")\n",
    "                print(f\" - UTF-8: {format(ord(hexaDecimalByte), '08b')} (1 byte)\")\n",
    "        else: #If not in ascii range the utf-8 encoding has 2 or more bytes\n",
    "            print(\" - Not in ASCII range\")\n",
    "            print(\" - UTF-8: \", end=\"\")\n",
    "            for singleByte in hexaDecimalByte: #Format accepts only single byte so iterate over each byte in the hexaDecimalbyte\n",
    "                print(f\"{format(singleByte, '08b')}\", end=\" \")\n",
    "            print(f\"({len(hexaDecimalByte)} bytes)\")\n",
    "\n",
    "\n",
    "isAsciiRange(inputValues)\n"
   ]
  }
 ],
 "metadata": {
  "kernelspec": {
   "display_name": ".venv",
   "language": "python",
   "name": "python3"
  },
  "language_info": {
   "codemirror_mode": {
    "name": "ipython",
    "version": 3
   },
   "file_extension": ".py",
   "mimetype": "text/x-python",
   "name": "python",
   "nbconvert_exporter": "python",
   "pygments_lexer": "ipython3",
   "version": "3.11.5"
  }
 },
 "nbformat": 4,
 "nbformat_minor": 2
}
