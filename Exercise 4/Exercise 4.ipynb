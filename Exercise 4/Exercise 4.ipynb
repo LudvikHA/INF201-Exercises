{
 "cells": [
  {
   "cell_type": "code",
   "execution_count": 169,
   "metadata": {},
   "outputs": [
    {
     "name": "stdout",
     "output_type": "stream",
     "text": [
      "Files already exist\n",
      "C:\\Users\\Ludvik\\OneDrive - Norwegian University of Life Sciences\\Emner\\Andreår\\INF201\\Exercise 4\\My project is Task 0\\data\n",
      "C:\\Users\\Ludvik\\OneDrive - Norwegian University of Life Sciences\\Emner\\Andreår\\INF201\\Exercise 4\\My project is Task 0\\output\n",
      "C:\\Users\\Ludvik\\OneDrive - Norwegian University of Life Sciences\\Emner\\Andreår\\INF201\\Exercise 4\\My project is Task 0\\data\\data.txt\n"
     ]
    }
   ],
   "source": [
    "'''\n",
    "Navn: Ludvik Høibjerg-Aslaksen\n",
    "NMBU-mail: ludvik.hoibjerg-aslaksen@nmbu.no\n",
    "\n",
    "Navn: Georg Dahl-Steinsvik\n",
    "NMBU-mail: georg.dahl-steinsvik@nmbu.no\n",
    "'''\n",
    "#Task 0\n",
    "from pathlib import Path\n",
    "def projectDirectory(projectName):\n",
    "    dataFilePath = Path(fr\"./{projectName}/data/data.txt\").absolute()\n",
    "    if not dataFilePath.exists():\n",
    "        Path(fr\"./{projectName}/data\").absolute().mkdir(parents=True)\n",
    "        dataFilePath.touch()\n",
    "        Path(fr\"./{projectName}/output\").absolute().mkdir(parents=True)\n",
    "    else:\n",
    "        print(\"Files already exist\")\n",
    "    \n",
    "    pathForGlobbing = Path(r\".\").glob(fr\"./{projectName}/**/*\")\n",
    "    for directories in pathForGlobbing:\n",
    "        print(directories.resolve())\n",
    "\n",
    "projectDirectory(\"My project is Task 0\")"
   ]
  },
  {
   "cell_type": "code",
   "execution_count": 132,
   "metadata": {},
   "outputs": [
    {
     "name": "stdout",
     "output_type": "stream",
     "text": [
      "projects\\exercise\\1\\Georg\n",
      "projects\\exercise\\1\\Ludvik\n",
      "projects\\exercise\\2\\Georg\n",
      "projects\\exercise\\2\\Ludvik\n",
      "projects\\exercise\\3a\\Georg\n",
      "projects\\exercise\\3a\\Ludvik\n",
      "projects\\exercise\\3b\\Georg\n",
      "projects\\exercise\\3b\\Ludvik\n",
      "projects\\exercise\\4a\\Georg\n",
      "projects\\exercise\\4a\\Ludvik\n",
      "projects\\exercise\\4b\\Georg\n",
      "projects\\exercise\\4b\\Ludvik\n"
     ]
    }
   ],
   "source": [
    "#Task 1\n",
    "from pathlib import Path\n",
    "\n",
    "def createExercises(totalNumber: int=4, projectAssignmentsStart: int=3, suffix: str=\"ab\") -> list:\n",
    "    #Generates a list containing numbers from projectAssignmentsStart to totalNumber with each desired suffix at the end\n",
    "    tempList = [str(i)+character for i in range(projectAssignmentsStart, totalNumber+1) for character in suffix]\n",
    "    #Adds the intial numbers without a suffix\n",
    "    [tempList.insert(x-1, x) for x in range(1, projectAssignmentsStart)]\n",
    "    return tempList\n",
    "\n",
    "exerciseNumbers = createExercises(4, 3, \"ab\")\n",
    "students = [\"Ludvik\", \"Georg\"]\n",
    "\n",
    "for numbers in exerciseNumbers:\n",
    "    for people in students:\n",
    "        pathToFiles = Path(fr\"./projects/exercise/{numbers}/{people}\")\n",
    "        pathToFiles.absolute().mkdir(parents=True, exist_ok=True)\n",
    "\n",
    "pathForGlobbing = Path(r\".\").glob(r\"./projects/*/*/*\")\n",
    "for directories in pathForGlobbing:\n",
    "    print(directories)\n",
    "\n"
   ]
  },
  {
   "cell_type": "code",
   "execution_count": 258,
   "metadata": {},
   "outputs": [
    {
     "name": "stdout",
     "output_type": "stream",
     "text": [
      "The time taken by the custom code is 12.6844s\n",
      "The time taken by the numpy code is 9.0768s\n"
     ]
    }
   ],
   "source": [
    "#Task 2\n",
    "import timeit\n",
    "import numpy as np\n",
    "\n",
    "customMatrixMulti = '''\n",
    "#Makes a matrix with each row containing numbers from rows to columns\n",
    "def matrixMaker(rows: int=3, columns: int=3) -> list[list[int]]:\n",
    "    return [[column for column in range(1, columns+1)] for row in range(1, rows+1)] \n",
    "\n",
    "def matrixVectorProduct(matrix: list, vector: list) -> list:\n",
    "    newVector = [0 for x in enumerate(vector)] #Makes a list with only zero elements for use further calculations\n",
    "    for rowIndex, rowElement in enumerate(matrix):\n",
    "        for numberIndex, numberElement in enumerate(rowElement):\n",
    "            newVector[rowIndex] = newVector[rowIndex] + numberElement*vector[numberIndex]\n",
    "    return newVector\n",
    "\n",
    "\n",
    "m = 100\n",
    "n = 100\n",
    "myVector = [x for x in range(1, m+1)]\n",
    "myMatrix = matrixMaker(m, n)\n",
    "\n",
    "matrixVectorProduct(myMatrix, myVector)\n",
    "'''\n",
    "\n",
    "numpyMatrixMulti = '''\n",
    "#Using np.matmul instead of np.dot since its made for matrix multiplication\n",
    "def matrixMaker(rows: int=3, columns: int=3) -> np.ndarray:\n",
    "    return np.array([[column for column in range(1, columns+1)] for row in range(1, rows+1)])\n",
    "\n",
    "def matrixVectorProduct(matrix: list, vector: list) -> list:\n",
    "    return np.matmul(matrix, vector)\n",
    "\n",
    "m = 100\n",
    "n = 100\n",
    "myVector = np.array([x for x in range(1, m+1)])\n",
    "myMatrix = matrixMaker(m, n)\n",
    "\n",
    "matrixVectorProduct(myMatrix, myVector)\n",
    "'''\n",
    "print(f\"The time taken by the custom code is {timeit.timeit(stmt=customMatrixMulti, number=10000):.4f}s\")\n",
    "print(f\"The time taken by the numpy code is {timeit.timeit(setup=\"import numpy as np\", stmt=numpyMatrixMulti, number=10000):.4f}s\")"
   ]
  }
 ],
 "metadata": {
  "kernelspec": {
   "display_name": ".venv",
   "language": "python",
   "name": "python3"
  },
  "language_info": {
   "codemirror_mode": {
    "name": "ipython",
    "version": 3
   },
   "file_extension": ".py",
   "mimetype": "text/x-python",
   "name": "python",
   "nbconvert_exporter": "python",
   "pygments_lexer": "ipython3",
   "version": "3.12.6"
  }
 },
 "nbformat": 4,
 "nbformat_minor": 2
}
