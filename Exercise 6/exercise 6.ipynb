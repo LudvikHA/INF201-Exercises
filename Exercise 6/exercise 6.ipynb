{
 "cells": [
  {
   "cell_type": "markdown",
   "metadata": {},
   "source": [
    "Navn: Ludvik Høibjerg-Aslaksen,\n",
    "NMBU-mail: ludvik.hoibjerg-aslaksen@nmbu.no\n",
    "\n",
    "Navn: Georg Dahl-Steinsvik,\n",
    "NMBU-mail: georg.dahl-steinsvik@nmbu.no"
   ]
  },
  {
   "cell_type": "code",
   "execution_count": 17,
   "metadata": {},
   "outputs": [
    {
     "name": "stdout",
     "output_type": "stream",
     "text": [
      "The dog barks!\n",
      "The cat meows!\n"
     ]
    }
   ],
   "source": [
    "#Task 0\n",
    "class Animal:\n",
    "    def __init__(self, animalName, animalAge) -> None:\n",
    "        self._name = animalName\n",
    "        self._age = animalAge\n",
    "\n",
    "    def make_sound():\n",
    "        print(\"The animal makes a sound!\")\n",
    "\n",
    "class Cat(Animal):\n",
    "    def __init__(self, animalName, animalAge, animalColour) -> None:\n",
    "        super().__init__(animalName, animalAge)\n",
    "        self._colour = animalColour\n",
    "\n",
    "    def make_sound(self):\n",
    "        print(\"The cat meows!\")\n",
    "\n",
    "class Dog(Animal):\n",
    "    def __init__(self, animalName, animalAge, animalBreed) -> None:\n",
    "        super().__init__(animalName, animalAge)\n",
    "        self._breed = animalBreed\n",
    "\n",
    "    def make_sound(self):\n",
    "        print(\"The dog barks!\")\n",
    "\n",
    "myDog = Dog(\"John\", 4, \"Corgi\")\n",
    "myDog.make_sound()\n",
    "\n",
    "myCat = Cat(\"Sansa\", 2, \"Gray\")\n",
    "myCat.make_sound()"
   ]
  },
  {
   "cell_type": "code",
   "execution_count": 87,
   "metadata": {},
   "outputs": [
    {
     "name": "stdout",
     "output_type": "stream",
     "text": [
      "John has achieved {'INF201': 'A'}\n",
      "Georg has achieved {'INF201': 'C'}\n",
      "Ludvik has achieved {'INF201': 'A'}\n",
      "Thorvald has achieved {'INF201': 'D'}\n",
      "Thora has achieved {'INF201': 'D'}\n"
     ]
    },
    {
     "data": {
      "text/plain": [
       "['Name: John, Age: 22, Email: John@nmbu.no',\n",
       " 'Name: Georg, Age: 27, Email: Georg@nmbu.no',\n",
       " 'Name: Ludvik, Age: 21, Email: Ludvik@nmbu.no',\n",
       " 'Name: Thorvald, Age: 24, Email: Thorvald@nmbu.no',\n",
       " 'Name: Thora, Age: 20, Email: Thora@nmbu.no']"
      ]
     },
     "execution_count": 87,
     "metadata": {},
     "output_type": "execute_result"
    }
   ],
   "source": [
    "#Task 1\n",
    "import random as rd\n",
    "\n",
    "#Step 1, 2, 3, 4\n",
    "class Person:\n",
    "    def __init__(self, personName: str, personAge: int, personEmail: str) -> None:\n",
    "        self._name = personName\n",
    "        self._age = personAge\n",
    "        self._email = personEmail\n",
    "\n",
    "    def getDetails(self) -> None:\n",
    "        return f\"Name: {self._name}, Age: {self._age}, Email: {self._email}\"\n",
    "\n",
    "class Student(Person):\n",
    "    def __init__(self, personName: str, personAge: int, personEmail: str, studentId: int, studentCourses: list[str]) -> None:\n",
    "        super().__init__(personName, personAge, personEmail)\n",
    "        self._studentId = studentId\n",
    "        self._courses = studentCourses\n",
    "        self._grades = {} #Keys are course names and the values are grades\n",
    "\n",
    "    def enrollInCourse(self, courseName: str) -> None:\n",
    "        self._courses.append(courseName)\n",
    "        print(f\"The course {courseName} has been added!\")\n",
    "\n",
    "    def assignGrades(self, course: str, grade: str) -> None:\n",
    "        self._grades.update({course: grade})\n",
    "\n",
    "    def getGrades(self) -> dict[str:str]:\n",
    "        return self._grades\n",
    "\n",
    "class Teacher(Person):\n",
    "    def __init__(self, personName: str, personAge: int, personEmail: str, teacherSubject: str) -> None:\n",
    "        super().__init__(personName, personAge, personEmail)\n",
    "        self._subject = teacherSubject\n",
    "\n",
    "    def assignGrade(self, student: Student, course: str, grade: str) -> None:\n",
    "        student.assignGrades(course, grade)\n",
    "\n",
    "class Course():\n",
    "    def __init__(self, courseName: str, courseCode: str, enrolledStudents: list[Student]) -> None:\n",
    "        self._courseName = courseName\n",
    "        self._courseCode = courseCode\n",
    "        self._enrolledStudents = enrolledStudents\n",
    "\n",
    "    def enrollStudent(self, studentToEnroll: Student) -> None:\n",
    "        self._enrolledStudents.append(studentToEnroll)\n",
    "        studentToEnroll.enrollInCourse(self._courseName)\n",
    "\n",
    "    def listStudents(self) -> list[Student]:\n",
    "        return [details.getDetails() for details in self._enrolledStudents]\n",
    "\n",
    "#Step 5\n",
    "studentList = []\n",
    "studentCourses = [\"FYS102\", \"INF201\", \"MATH113\", \"TEL100\"]\n",
    "for index, names in enumerate([\"John\", \"Georg\", \"Ludvik\", \"Thorvald\", \"Thora\"]):\n",
    "    studentList.append(Student(names, rd.randint(18, 30), f\"{names}@nmbu.no\", 110+index, studentCourses))\n",
    "\n",
    "myTeacher = Teacher(\"Carl\", 45, \"Carl@nmbu.no\", \"INF201\")\n",
    "INF201 = Course(\"Advanced Programming\", \"INF201\", studentList)\n",
    "\n",
    "#Makes a few student objects\n",
    "for gradeableStudents in INF201._enrolledStudents:\n",
    "    myTeacher.assignGrade(gradeableStudents, \"INF201\", rd.choice(\"ABCDEF\"))\n",
    "\n",
    "#Checks the grades in the course\n",
    "for gradeableStudents in INF201._enrolledStudents:\n",
    "    print(f\"{gradeableStudents._name} has achieved {gradeableStudents.getGrades()}\")\n",
    "\n",
    "INF201.listStudents()"
   ]
  }
 ],
 "metadata": {
  "kernelspec": {
   "display_name": ".venv",
   "language": "python",
   "name": "python3"
  },
  "language_info": {
   "codemirror_mode": {
    "name": "ipython",
    "version": 3
   },
   "file_extension": ".py",
   "mimetype": "text/x-python",
   "name": "python",
   "nbconvert_exporter": "python",
   "pygments_lexer": "ipython3",
   "version": "3.12.6"
  }
 },
 "nbformat": 4,
 "nbformat_minor": 2
}
