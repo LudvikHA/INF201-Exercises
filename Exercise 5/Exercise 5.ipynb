{
 "cells": [
  {
   "cell_type": "code",
   "execution_count": 6,
   "metadata": {},
   "outputs": [
    {
     "name": "stdout",
     "output_type": "stream",
     "text": [
      "Sum test, My sum: 1250120749, Np sum 1250120749\n",
      "mean test, My mean: 50.00482996, Np mean 50.00482996\n",
      "variance test, my var: 849.9041699919148, np variance: 849.904169991486\n"
     ]
    }
   ],
   "source": [
    "'''\n",
    "Navn: Ludvik Høibjerg-Aslaksen\n",
    "NMBU-mail: ludvik.hoibjerg-aslaksen@nmbu.no\n",
    "\n",
    "Navn: Georg Dahl-Steinsvik\n",
    "NMBU-mail: georg.dahl-steinsvik@nmbu.no\n",
    "'''\n",
    "#Task 1\n",
    "import numpy as np\n",
    "\n",
    "n = 5000\n",
    "myMatrix = np.random.randint(0, 101, (n, n))\n",
    "\n",
    "def multiply(matrix: np.ndarray, number: int) -> np.ndarray:\n",
    "    return matrix*number\n",
    "\n",
    "def sum(matrix: np.ndarray) -> np.ndarray:\n",
    "    totalSum = 0\n",
    "    for rows in matrix:\n",
    "        for elements in rows:\n",
    "            totalSum += elements\n",
    "    return totalSum\n",
    "\n",
    "def mean(matrix: np.ndarray, sizeOfMatrix: int) -> np.ndarray:\n",
    "    return sum(matrix)/(sizeOfMatrix**2)\n",
    "\n",
    "def variance(matrix: np.ndarray, sizeOfMatrix: int) -> np.ndarray:\n",
    "    meanValue = mean(matrix, sizeOfMatrix)\n",
    "    sumOfElementsAndMean = 0\n",
    "    for rows in matrix:\n",
    "        for elements in rows:\n",
    "            sumOfElementsAndMean += (meanValue-elements)**2\n",
    "    return sumOfElementsAndMean/(sizeOfMatrix**2)\n",
    "\n",
    "print(f\"Sum test, My sum: {sum(myMatrix)}, Np sum {np.sum(myMatrix)}\")\n",
    "print(f\"mean test, My mean: {mean(myMatrix, n)}, Np mean {np.mean(myMatrix)}\")\n",
    "print(f\"variance test, my var: {variance(myMatrix, n)}, np variance: {np.var(myMatrix)}\")\n",
    "\n"
   ]
  },
  {
   "cell_type": "code",
   "execution_count": 8,
   "metadata": {},
   "outputs": [
    {
     "name": "stdout",
     "output_type": "stream",
     "text": [
      "Eigenvalue from calculations: -3.9866482724779346\n",
      "Eigenvalue from numpy linalg: -3.996206657474087\n"
     ]
    }
   ],
   "source": [
    "#Task 2\n",
    "import numpy as np\n",
    "\n",
    "n = 50\n",
    "A = np.zeros((n, n))\n",
    "v = np.random.randint(0, 101, (n, 1)) \n",
    "rowPosition = -1\n",
    "\n",
    "for indexMatrix, element in enumerate(A):\n",
    "    for insertValues in (1, -2, 1): #Iterates over the values to be inserted\n",
    "        try: #Ignores out range index errors\n",
    "            if rowPosition != -1: #Makes sure a value is not placed at the end of a row\n",
    "                A[indexMatrix][rowPosition] = insertValues #Inserts the desired values at rowPosition\n",
    "            rowPosition = rowPosition + 1\n",
    "        except IndexError:\n",
    "            pass\n",
    "    \n",
    "    rowPosition = rowPosition - 2 #Sets the row position one ahead of the start value in the previous row\n",
    "\n",
    "#Finds eigenvalue\n",
    "for iterations in range(0, 100):\n",
    "    vNew = A @ v\n",
    "    vNew/np.abs(vNew)\n",
    "    v = vNew\n",
    "vTransposed = np.matrix.transpose(v)\n",
    "eigenvalues = (vTransposed @ A @ v)/(vTransposed @ v)\n",
    "\n",
    "print(f\"Eigenvalue from calculations: {eigenvalues[0][0]}\")\n",
    "Lambda, V = np.linalg.eig(A)\n",
    "print(f\"Eigenvalue from numpy linalg: {np.sort(Lambda)[0]}\") #Largest value\n",
    "    "
   ]
  }
 ],
 "metadata": {
  "kernelspec": {
   "display_name": ".venv",
   "language": "python",
   "name": "python3"
  },
  "language_info": {
   "codemirror_mode": {
    "name": "ipython",
    "version": 3
   },
   "file_extension": ".py",
   "mimetype": "text/x-python",
   "name": "python",
   "nbconvert_exporter": "python",
   "pygments_lexer": "ipython3",
   "version": "3.12.6"
  }
 },
 "nbformat": 4,
 "nbformat_minor": 2
}
